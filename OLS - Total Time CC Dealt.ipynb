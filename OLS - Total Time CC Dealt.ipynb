{
 "cells": [
  {
   "cell_type": "code",
   "id": "initial_id",
   "metadata": {
    "collapsed": true,
    "ExecuteTime": {
     "end_time": "2024-10-06T04:41:56.451568Z",
     "start_time": "2024-10-06T04:41:56.445270Z"
    }
   },
   "source": [
    "import statsmodels.api as sm\n",
    "import pandas as pd\n",
    "from sklearn.preprocessing import LabelEncoder\n",
    "from sklearn.linear_model import Lasso\n",
    "from sklearn.linear_model import LassoCV\n",
    "from sklearn.model_selection import train_test_split\n",
    "from sklearn.preprocessing import StandardScaler"
   ],
   "outputs": [],
   "execution_count": 46
  },
  {
   "metadata": {
    "ExecuteTime": {
     "end_time": "2024-10-06T04:41:56.849453Z",
     "start_time": "2024-10-06T04:41:56.833662Z"
    }
   },
   "cell_type": "code",
   "source": [
    "path_url = '/Users/hazelran/Desktop/LCK_SummerPlayoffs_2024.csv'\n",
    "df_lol = pd.read_csv(path_url, sep=';')"
   ],
   "id": "ece170d2d33395d0",
   "outputs": [],
   "execution_count": 47
  },
  {
   "metadata": {
    "ExecuteTime": {
     "end_time": "2024-10-06T04:41:57.399627Z",
     "start_time": "2024-10-06T04:41:57.388307Z"
    }
   },
   "cell_type": "code",
   "source": [
    "perfect_kda_players = df_lol[df_lol[\"KDA\"] == \"Perfect_KDA\"]\n",
    "perf_kda_group = perfect_kda_players.groupby(\"Player\").size().reset_index(name=\"Perfect KDA Players\").sort_values(by=\"Perfect KDA Players\", ascending=False)\n",
    "\n",
    "condition = df_lol[\"KDA\"] == \"Perfect_KDA\"\n",
    "df_lol.loc[condition, \"KDA\"] = df_lol.loc[condition, \"Kills\"] + df_lol.loc[condition, \"Assists\"]\n",
    "# df_lol[[\"Player\", \"Team\", \"KDA\"]].head()"
   ],
   "id": "318707374750b45e",
   "outputs": [],
   "execution_count": 48
  },
  {
   "metadata": {
    "ExecuteTime": {
     "end_time": "2024-10-06T04:41:57.796788Z",
     "start_time": "2024-10-06T04:41:57.783412Z"
    }
   },
   "cell_type": "code",
   "outputs": [
    {
     "data": {
      "text/plain": [
       "'\\n\\n# Standardizing features\\nscaler = StandardScaler()\\nX_scaled = scaler.fit_transform(X)\\n\\n# 分割数据集为训练集和测试集\\nX_train, X_test, y_train, y_test = train_test_split(X, y, test_size=0.2, random_state=42)\\n\\n# Lasso with cross-validation to select the best alpha\\nlasso_cv = LassoCV(cv=5, random_state=42).fit(X_train, y_train)\\n\\n# Predictions\\ny_pred = lasso_cv.predict(X_test)\\n\\n# Model performance\\nprint(f\"R Squared (Test): {lasso_cv.score(X_test, y_test)}\")\\nprint(f\"Mean Squared Error (Test): {mean_squared_error(y_test, y_pred)}\")\\n\\n# Output coefficients\\ncoefficients = pd.DataFrame({\\n    \\'Feature\\': X.columns,\\n    \\'Coefficient\\': lasso_cv.coef_\\n})\\nprint(coefficients)\\n'"
      ]
     },
     "execution_count": 49,
     "metadata": {},
     "output_type": "execute_result"
    }
   ],
   "execution_count": 49,
   "source": [
    "label_encoder = LabelEncoder()\n",
    "df_lol['Role_encoded'] = label_encoder.fit_transform(df_lol['Role'])\n",
    "\n",
    "# 导入数据集\n",
    "X = df_lol[['Role_encoded', 'Kills', 'Deaths', 'Assists', 'KDA', 'Golds', 'CS', 'GPM', 'Dragon Team', 'Baron Team', 'Total damage to Champion', 'Vision Score', 'VSPM', 'Total damage to Champion', 'True Damage', 'KP%', 'Penta kills', 'Damage dealt to turrets', 'Time ccing others', 'Total Time Spent Dead']]\n",
    "y = df_lol['Total Time CC Dealt']"
   ],
   "id": "29daaf09df2f40a7"
  },
  {
   "metadata": {
    "ExecuteTime": {
     "end_time": "2024-10-06T04:42:12.339208Z",
     "start_time": "2024-10-06T04:42:12.322396Z"
    }
   },
   "cell_type": "code",
   "outputs": [
    {
     "name": "stdout",
     "output_type": "stream",
     "text": [
      "R Squared: -0.7215937429011734\n",
      "Mean Squared Error: 72387.17000910007\n",
      "Role_encoded: 157.72215142097167\n",
      "Kills: 36.39796164754343\n",
      "Deaths: -14.793516188878447\n",
      "Assists: -64.73789290460425\n",
      "KDA: 10.263744076838403\n",
      "Golds: -177.955275028113\n",
      "CS: 385.7214409007945\n",
      "GPM: -152.90489702191493\n",
      "Dragon Team: 96.31976939860255\n",
      "Baron Team: 43.863403169370486\n",
      "Total damage to Champion: -4.88898384516154\n",
      "Vision Score: -34.052211038300314\n",
      "VSPM: -99.66929329277497\n",
      "Total damage to Champion: -45.40198193146386\n",
      "True Damage: 26.723057209639716\n",
      "KP%: 70.64891956768119\n",
      "Penta kills: -9.803757636790856\n",
      "Damage dealt to turrets: -23.303915892920234\n",
      "Time ccing others: 245.82973328408585\n",
      "Total Time Spent Dead: -17.16819167121092\n"
     ]
    }
   ],
   "execution_count": 52,
   "source": [
    "\"\"\"\n",
    "from sklearn.metrics import r2_score, mean_squared_error\n",
    "\n",
    "# 设置Lasso回归模型\n",
    "lasso = Lasso(alpha=0.1)\n",
    "\n",
    "# 拟合训练集\n",
    "lasso.fit(X_train_scaled, y_train)\n",
    "\n",
    "# 预测测试集\n",
    "y_pred = lasso.predict(X_test_scaled)\n",
    "\n",
    "# 计算 R Squared 和 MSE\n",
    "print(f\"R Squared: {r2_score(y_test, y_pred)}\")\n",
    "print(f\"Mean Squared Error: {mean_squared_error(y_test, y_pred)}\")\n",
    "\n",
    "# 查看特征的重要性（非零系数的特征）\n",
    "importance = lasso.coef_\n",
    "for feature, coef in zip(X.columns, importance):\n",
    "    print(f\"{feature}: {coef}\")\n",
    "\"\"\""
   ],
   "id": "3945004552b92e7a"
  },
  {
   "metadata": {},
   "cell_type": "markdown",
   "source": [
    "Results: Lasso回归模型没有改进，反而导致了更糟糕的性能，特别是R Squared为负数，表示模型没有捕捉到数据的相关性。\n",
    "\n",
    "\n",
    "错误猜想：可能是因为模型对特征施加了过强的正则化，导致模型缺拟合"
   ],
   "id": "ea55beda5d9fb56d"
  },
  {
   "metadata": {
    "ExecuteTime": {
     "end_time": "2024-10-06T04:47:40.117134Z",
     "start_time": "2024-10-06T04:47:39.940701Z"
    }
   },
   "cell_type": "code",
   "source": [
    "# 使用LassoCV进行正则化强度的交叉验证\n",
    "\n",
    "# Standardizing features\n",
    "scaler = StandardScaler()\n",
    "X_scaled = scaler.fit_transform(X)\n",
    "\n",
    "# 分割数据集为训练集和测试集\n",
    "X_train, X_test, y_train, y_test = train_test_split(X, y, test_size=0.2, random_state=42)\n",
    "\n",
    "# Lasso with cross-validation to select the best alpha\n",
    "lasso_cv = LassoCV(cv=5, random_state=42).fit(X_train, y_train)\n",
    "\n",
    "# Predictions\n",
    "y_pred = lasso_cv.predict(X_test)\n",
    "\n",
    "# Model performance\n",
    "print(f\"R Squared (Test): {lasso_cv.score(X_test, y_test)}\")\n",
    "print(f\"Mean Squared Error (Test): {mean_squared_error(y_test, y_pred)}\")\n",
    "\n",
    "# Output coefficients\n",
    "coefficients = pd.DataFrame({\n",
    "    'Feature': X.columns,\n",
    "    'Coefficient': lasso_cv.coef_\n",
    "})\n",
    "print(coefficients)"
   ],
   "id": "e64bd4a3e3a22b37",
   "outputs": [
    {
     "name": "stdout",
     "output_type": "stream",
     "text": [
      "R Squared (Test): 0.3122224761850195\n",
      "Mean Squared Error (Test): 28918.709045105308\n",
      "                     Feature  Coefficient\n",
      "0               Role_encoded     0.000000\n",
      "1                      Kills    -0.000000\n",
      "2                     Deaths    -0.000000\n",
      "3                    Assists    -0.000000\n",
      "4                        KDA     0.000000\n",
      "5                      Golds     0.032318\n",
      "6                         CS     1.099310\n",
      "7                        GPM    -1.613457\n",
      "8                Dragon Team     0.000000\n",
      "9                 Baron Team     0.000000\n",
      "10  Total damage to Champion    -0.003518\n",
      "11              Vision Score    -4.195229\n",
      "12                      VSPM    -0.000000\n",
      "13  Total damage to Champion    -0.005512\n",
      "14               True Damage     0.025996\n",
      "15                       KP%     0.000000\n",
      "16               Penta kills     0.000000\n",
      "17   Damage dealt to turrets    -0.005613\n",
      "18         Time ccing others    14.842620\n",
      "19     Total Time Spent Dead    -0.210847\n"
     ]
    }
   ],
   "execution_count": 54
  },
  {
   "metadata": {},
   "cell_type": "markdown",
   "source": [
    "Results: 从结果来看，Lasso回归模型通过L1正则化自动消除了多余的特征，将一些特征的系数缩小为0。\n",
    "\n",
    "\n",
    "R Squared(Test): 0.312 --> 表明模型在测试集上的拟合效果较为一般，解释了31%的数据方差\n",
    "\n",
    "\n",
    "预测误差(MSE: 28918)较大"
   ],
   "id": "a4937723f764d7bd"
  },
  {
   "metadata": {
    "ExecuteTime": {
     "end_time": "2024-10-06T04:41:58.773574Z",
     "start_time": "2024-10-06T04:41:58.638688Z"
    }
   },
   "cell_type": "code",
   "outputs": [
    {
     "name": "stdout",
     "output_type": "stream",
     "text": [
      "Best alpha: 211.760568548387\n",
      "R Squared (Test): 0.3122224761850195\n",
      "Mean Squared Error (Test): 28918.709045105308\n"
     ]
    }
   ],
   "execution_count": 50,
   "source": [
    "# 通过网格搜索(GridSearchCV)优化Lasso模型中的alpha值，从而自动调整正则化强度\n",
    "\n",
    "# 使用交叉验证来选择最佳 alpha\n",
    "lasso_cv = LassoCV(cv=5, random_state=42)\n",
    "lasso_cv.fit(X_train, y_train)\n",
    "\n",
    "# 输出最佳 alpha\n",
    "print(f\"Best alpha: {lasso_cv.alpha_}\")\n",
    "\n",
    "# 使用最佳 alpha 重新训练模型\n",
    "lasso = Lasso(alpha=lasso_cv.alpha_)\n",
    "lasso.fit(X_train, y_train)\n",
    "\n",
    "# 测试集上的预测\n",
    "y_pred = lasso.predict(X_test)\n",
    "\n",
    "# 输出新的 R Squared 和 MSE\n",
    "print(f\"R Squared (Test): {lasso.score(X_test, y_test)}\")\n",
    "print(f\"Mean Squared Error (Test): {mean_squared_error(y_test, y_pred)}\")"
   ],
   "id": "17e82ef4a0f0a9ca"
  },
  {
   "metadata": {},
   "cell_type": "markdown",
   "source": "[Best alpha: 211.760568548387] 表明模型选择了较高的正则化力度。在这个模型中，测试集的R Squared(0.312)表示模型只能解释约31%的数据方差，预测误差(MSE: 28918)较大",
   "id": "f3a7339c932e99fa"
  },
  {
   "metadata": {
    "ExecuteTime": {
     "end_time": "2024-10-06T04:42:15.161744Z",
     "start_time": "2024-10-06T04:42:15.113243Z"
    }
   },
   "cell_type": "code",
   "source": [
    "# we will store variable/feature names for later\n",
    "feature_names = X.columns.tolist()\n",
    "\n",
    "# Ssandardizing features\n",
    "scaler = StandardScaler()\n",
    "X_scaled = scaler.fit_transform(X)\n",
    "\n",
    "# constant for the intercept\n",
    "X_scaled = sm.add_constant(X_scaled)\n",
    "\n",
    "# using the feature names to include the constant\n",
    "feature_names = ['const'] + feature_names\n",
    "\n",
    "# Train-test split\n",
    "X_train, X_test, y_train, y_test = train_test_split(X_scaled, y, test_size=0.2, random_state=42)\n",
    "\n",
    "# model fit\n",
    "model = sm.OLS(y_train, X_train).fit()\n",
    "\n",
    "# df as the model summary (since the standard summary() does not provide feature/variable names)\n",
    "summary_df = pd.DataFrame({\n",
    "    'Feature': feature_names,\n",
    "    'P>|t|': model.pvalues,\n",
    "    'Coefficient': model.params,\n",
    "    'Std Err': model.bse,\n",
    "    't': model.tvalues,\n",
    "    '95% Conf. Int. Lower': model.conf_int()[0],\n",
    "    '95% Conf. Int. Upper': model.conf_int()[1]\n",
    "})\n",
    "\n",
    "print(\"Goodness of Fit stats:\")\n",
    "print(f\"R Squared: {model.rsquared.round(3)}\")\n",
    "print(f\"Adjusted R Squared: {model.rsquared_adj.round(3)}\\n\")\n",
    "print(summary_df)"
   ],
   "id": "a66d315d2da22f86",
   "outputs": [
    {
     "name": "stdout",
     "output_type": "stream",
     "text": [
      "Goodness of Fit stats:\n",
      "R Squared: 0.372\n",
      "Adjusted R Squared: 0.319\n",
      "\n",
      "                        Feature         P>|t|  Coefficient     Std Err  \\\n",
      "const                     const  1.565557e-31   357.253970   26.098380   \n",
      "x1                 Role_encoded  1.933495e-06   158.488014   32.433223   \n",
      "x2                        Kills  6.104191e-01    38.477512   75.419534   \n",
      "x3                       Deaths  8.353408e-01   -14.596408   70.143086   \n",
      "x4                      Assists  2.400287e-01   -63.040231   53.515082   \n",
      "x5                          KDA  8.679940e-01    10.324751   62.049841   \n",
      "x6                        Golds  2.636426e-01  -179.601728  160.274653   \n",
      "x7                           CS  2.471281e-02   392.938113  173.801712   \n",
      "x8                          GPM  1.491757e-01  -155.913003  107.723951   \n",
      "x9                  Dragon Team  1.607033e-02    94.937570   39.143400   \n",
      "x10                  Baron Team  2.563260e-01    45.309451   39.815914   \n",
      "x11    Total damage to Champion  3.118407e-01   -24.789911   24.456916   \n",
      "x12                Vision Score  8.321893e-01   -33.655971  158.651720   \n",
      "x13                        VSPM  4.890273e-01  -106.640187  153.886364   \n",
      "x14    Total damage to Champion  3.118407e-01   -24.789911   24.456916   \n",
      "x15                 True Damage  4.375444e-01    25.991942   33.420992   \n",
      "x16                         KP%  2.910531e-02    70.507871   32.108484   \n",
      "x17                 Penta kills  7.165433e-01    -8.825480   24.276940   \n",
      "x18     Damage dealt to turrets  6.487660e-01   -21.729100   47.643089   \n",
      "x19           Time ccing others  8.103024e-13   239.652292   31.573114   \n",
      "x20       Total Time Spent Dead  7.780985e-01   -17.060958   60.471633   \n",
      "\n",
      "               t  95% Conf. Int. Lower  95% Conf. Int. Upper  \n",
      "const  13.688741            305.829118            408.678823  \n",
      "x1      4.886595             94.580838            222.395189  \n",
      "x2      0.510180           -110.130887            187.085910  \n",
      "x3     -0.208095           -152.807971            123.615155  \n",
      "x4     -1.177990           -168.487591             42.407128  \n",
      "x5      0.166394           -111.939695            132.589196  \n",
      "x6     -1.120587           -495.410623            136.207167  \n",
      "x7      2.260841             50.475189            735.401038  \n",
      "x8     -1.447338           -368.174775             56.348769  \n",
      "x9      2.425379             17.808506            172.066633  \n",
      "x10     1.137973            -33.144749            123.763651  \n",
      "x11    -1.013616            -72.980384             23.400563  \n",
      "x12    -0.212137           -346.266999            278.955058  \n",
      "x13    -0.692980           -409.861449            196.581075  \n",
      "x14    -1.013616            -72.980384             23.400563  \n",
      "x15     0.777713            -39.861557             91.845441  \n",
      "x16     2.195927              7.240570            133.775172  \n",
      "x17    -0.363533            -56.661326             39.010365  \n",
      "x18    -0.456081           -115.606149             72.147948  \n",
      "x19     7.590391            177.439896            301.864687  \n",
      "x20    -0.282132           -136.215666            102.093751  \n"
     ]
    }
   ],
   "execution_count": 53
  },
  {
   "metadata": {},
   "cell_type": "markdown",
   "source": [
    "小结：使用了Lasso回归来进行特征选择，并比较了不同的模型性能\n",
    "\n",
    "\n",
    "过程：\n",
    "\n",
    "\n",
    "1.首先，普通线性回归模型的R²为0.372，虽然部分特征无关紧要，但由于删除高P值的特征导致模型性能变差，R²下降至0.212\n",
    "\n",
    "\n",
    "2.通过Lasso回归自动选择重要特征，并使用交叉验证确定最佳正则化参数alpha=211.76，测试集的R²为0.312，均方误差为28,918.7\n",
    "\n",
    "\n",
    "3.虽然R²比初始线性回归模型低，但Lasso回归有效减少了模型的复杂度，提升了模型的泛化能力，降低了过拟合的风险\n",
    "\n",
    "\n",
    "结论：Lasso回归在选择相关特征方面表现良好，尽管R²有所下降，但它使模型更具泛化性，适合实际应用"
   ],
   "id": "43f62c0b0384068"
  },
  {
   "metadata": {},
   "cell_type": "markdown",
   "source": [
    "Summary: I applied Lasso regression for feature selection and compared it with other models.\n",
    "\n",
    "\n",
    "Process:\n",
    "\n",
    "\n",
    "1. Initially, linear regression gave an R² of 0.372. However, removing features with high p-values reduced performance, and R² dropped to 0.212\n",
    "\n",
    "\n",
    "2. Lasso regression was applied with cross-validation, leading to an optimal alpha of 211.76. The test set yielded an R² of 0.312 with a mean squared error of 28,918.7\n",
    "\n",
    "3. Although R² was lower compared to the initial model, Lasso simplified the model, improving its generalization and reducing overfitting risk\n",
    "\n",
    "\n",
    "Conclusion: Lasso regression effectively selected relevant features, resulting in a simpler, more generalizable model, even at the cost of a slightly lower R²\n"
   ],
   "id": "31ec872aa3a0eaeb"
  }
 ],
 "metadata": {
  "kernelspec": {
   "display_name": "Python 3",
   "language": "python",
   "name": "python3"
  },
  "language_info": {
   "codemirror_mode": {
    "name": "ipython",
    "version": 2
   },
   "file_extension": ".py",
   "mimetype": "text/x-python",
   "name": "python",
   "nbconvert_exporter": "python",
   "pygments_lexer": "ipython2",
   "version": "2.7.6"
  }
 },
 "nbformat": 4,
 "nbformat_minor": 5
}
